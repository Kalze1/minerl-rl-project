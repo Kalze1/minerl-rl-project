{
 "cells": [
  {
   "cell_type": "code",
   "execution_count": null,
   "metadata": {},
   "outputs": [],
   "source": [
    "import minerl\n",
    "import gym\n",
    "\n",
    "# Load the MineRL environment\n",
    "env = gym.make(\"MineRLNavigateDense-v0\")\n",
    "\n",
    "# Explore the observation and action spaces\n",
    "obs = env.reset()\n",
    "print(\"Observation:\", obs)\n",
    "print(\"Action Space:\", env.action_space)\n",
    "\n",
    "# Render one step\n",
    "action = env.action_space.sample()  # Random action\n",
    "obs, reward, done, info = env.step(action)\n",
    "env.render()\n",
    "env.close()\n"
   ]
  }
 ],
 "metadata": {
  "language_info": {
   "name": "python"
  }
 },
 "nbformat": 4,
 "nbformat_minor": 2
}
